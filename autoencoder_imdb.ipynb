{
 "cells": [
  {
   "cell_type": "code",
   "execution_count": 4,
   "metadata": {
    "collapsed": true
   },
   "outputs": [],
   "source": [
    "import sys\n",
    "sys.path.append('/Users/tgn/ConfigArgParse-0.10.0/build/lib')\n",
    "sys.path.append('/Users/tgn/neon/build/lib')"
   ]
  },
  {
   "cell_type": "code",
   "execution_count": 14,
   "metadata": {
    "collapsed": true
   },
   "outputs": [],
   "source": [
    "from neon.backends import gen_backend\n",
    "be = gen_backend(backend='cpu', batch_size=100)"
   ]
  },
  {
   "cell_type": "code",
   "execution_count": 17,
   "metadata": {
    "collapsed": false
   },
   "outputs": [],
   "source": [
    "import numpy as np\n",
    "from neon import logger as neon_logger\n",
    "from neon.data import ArrayIterator, load_mnist\n",
    "from neon.initializers import Uniform\n",
    "from neon.layers import Conv, Pooling, GeneralizedCost, Deconv, Affine\n",
    "from neon.models import Model\n",
    "from neon.optimizers import GradientDescentMomentum\n",
    "from neon.transforms import Rectlin, SumSquared\n",
    "from neon.callbacks.callbacks import Callbacks\n",
    "from neon.util.argparser import NeonArgparser\n",
    "\n",
    "# parse the command line arguments\n",
    "\n",
    "\n",
    "# Load dataset\n",
    "(X_train, y_train), (X_test, y_test), nclass = load_mnist()\n",
    "\n",
    "X_train=X_train[0:100]\n",
    "\n",
    "# Set input and target to X_train\n",
    "train = ArrayIterator(X_train)\n",
    "\n",
    "# Initialize the weights and the learning rule\n",
    "init_uni = Uniform(low=-0.1, high=0.1)\n",
    "opt_gdm = GradientDescentMomentum(learning_rate=0.001, momentum_coef=0.9)\n",
    "\n"
   ]
  },
  {
   "cell_type": "code",
   "execution_count": 26,
   "metadata": {
    "collapsed": false,
    "scrolled": true
   },
   "outputs": [
    {
     "name": "stdout",
     "output_type": "stream",
     "text": [
      "Epoch 0   [Train |████████████████████|    1/1    batches, 68.35 cost, 0.04s]\n",
      "Epoch 1   [Train |████████████████████|    1/1    batches, 63.38 cost, 0.03s]\n",
      "Epoch 2   [Train |████████████████████|    1/1    batches, 58.77 cost, 0.04s]\n",
      "Epoch 3   [Train |████████████████████|    1/1    batches, 55.39 cost, 0.04s]\n",
      "Epoch 4   [Train |████████████████████|    1/1    batches, 52.98 cost, 0.02s]\n",
      "Epoch 5   [Train |████████████████████|    1/1    batches, 51.21 cost, 0.03s]\n",
      "Epoch 6   [Train |████████████████████|    1/1    batches, 49.85 cost, 0.04s]\n",
      "Epoch 7   [Train |████████████████████|    1/1    batches, 48.77 cost, 0.05s]\n",
      "Epoch 8   [Train |████████████████████|    1/1    batches, 47.87 cost, 0.02s]\n",
      "Epoch 9   [Train |████████████████████|    1/1    batches, 47.10 cost, 0.06s]\n",
      "Epoch 10  [Train |████████████████████|    1/1    batches, 44.23 cost, 0.02s]\n",
      "Epoch 11  [Train |████████████████████|    1/1    batches, 42.31 cost, 0.05s]\n",
      "Epoch 12  [Train |████████████████████|    1/1    batches, 41.21 cost, 0.03s]\n",
      "Epoch 13  [Train |████████████████████|    1/1    batches, 40.48 cost, 0.03s]\n",
      "Epoch 14  [Train |████████████████████|    1/1    batches, 39.86 cost, 0.04s]\n",
      "Epoch 15  [Train |████████████████████|    1/1    batches, 39.27 cost, 0.04s]\n",
      "Epoch 16  [Train |████████████████████|    1/1    batches, 38.65 cost, 0.04s]\n",
      "Epoch 17  [Train |████████████████████|    1/1    batches, 38.01 cost, 0.03s]\n",
      "Epoch 18  [Train |████████████████████|    1/1    batches, 37.33 cost, 0.04s]\n",
      "Epoch 19  [Train |████████████████████|    1/1    batches, 36.61 cost, 0.03s]\n",
      "Epoch 20  [Train |████████████████████|    1/1    batches, 35.85 cost, 0.03s]\n",
      "Epoch 21  [Train |████████████████████|    1/1    batches, 35.07 cost, 0.04s]\n",
      "Epoch 22  [Train |████████████████████|    1/1    batches, 34.25 cost, 0.05s]\n",
      "Epoch 23  [Train |████████████████████|    1/1    batches, 33.41 cost, 0.05s]\n",
      "Epoch 24  [Train |████████████████████|    1/1    batches, 32.56 cost, 0.05s]\n",
      "Epoch 25  [Train |████████████████████|    1/1    batches, 31.70 cost, 0.06s]\n",
      "Epoch 26  [Train |████████████████████|    1/1    batches, 30.86 cost, 0.06s]\n",
      "Epoch 27  [Train |████████████████████|    1/1    batches, 30.04 cost, 0.03s]\n",
      "Epoch 28  [Train |████████████████████|    1/1    batches, 29.25 cost, 0.03s]\n",
      "Epoch 29  [Train |████████████████████|    1/1    batches, 28.50 cost, 0.03s]\n",
      "Epoch 30  [Train |████████████████████|    1/1    batches, 27.78 cost, 0.03s]\n",
      "Epoch 31  [Train |████████████████████|    1/1    batches, 27.11 cost, 0.03s]\n",
      "Epoch 32  [Train |████████████████████|    1/1    batches, 26.49 cost, 0.03s]\n",
      "Epoch 33  [Train |████████████████████|    1/1    batches, 25.93 cost, 0.03s]\n",
      "Epoch 34  [Train |████████████████████|    1/1    batches, 25.44 cost, 0.04s]\n",
      "Epoch 35  [Train |████████████████████|    1/1    batches, 25.00 cost, 0.04s]\n",
      "Epoch 36  [Train |████████████████████|    1/1    batches, 24.61 cost, 0.03s]\n",
      "Epoch 37  [Train |████████████████████|    1/1    batches, 24.27 cost, 0.04s]\n",
      "Epoch 38  [Train |████████████████████|    1/1    batches, 23.97 cost, 0.04s]\n",
      "Epoch 39  [Train |████████████████████|    1/1    batches, 23.71 cost, 0.05s]\n",
      "Epoch 40  [Train |████████████████████|    1/1    batches, 23.49 cost, 0.04s]\n",
      "Epoch 41  [Train |████████████████████|    1/1    batches, 23.31 cost, 0.04s]\n",
      "Epoch 42  [Train |████████████████████|    1/1    batches, 23.15 cost, 0.04s]\n",
      "Epoch 43  [Train |████████████████████|    1/1    batches, 23.02 cost, 0.07s]\n",
      "Epoch 44  [Train |████████████████████|    1/1    batches, 22.90 cost, 0.04s]\n",
      "Epoch 45  [Train |████████████████████|    1/1    batches, 22.81 cost, 0.04s]\n",
      "Epoch 46  [Train |████████████████████|    1/1    batches, 22.73 cost, 0.03s]\n",
      "Epoch 47  [Train |████████████████████|    1/1    batches, 22.66 cost, 0.04s]\n",
      "Epoch 48  [Train |████████████████████|    1/1    batches, 22.61 cost, 0.04s]\n",
      "Epoch 49  [Train |████████████████████|    1/1    batches, 22.56 cost, 0.04s]\n",
      "Epoch 50  [Train |████████████████████|    1/1    batches, 22.51 cost, 0.09s]\n",
      "Epoch 51  [Train |████████████████████|    1/1    batches, 22.47 cost, 0.09s]\n",
      "Epoch 52  [Train |████████████████████|    1/1    batches, 22.43 cost, 0.06s]\n",
      "Epoch 53  [Train |████████████████████|    1/1    batches, 22.39 cost, 0.06s]\n",
      "Epoch 54  [Train |████████████████████|    1/1    batches, 22.35 cost, 0.04s]\n",
      "Epoch 55  [Train |████████████████████|    1/1    batches, 22.32 cost, 0.05s]\n",
      "Epoch 56  [Train |████████████████████|    1/1    batches, 22.28 cost, 0.03s]\n",
      "Epoch 57  [Train |████████████████████|    1/1    batches, 22.24 cost, 0.04s]\n",
      "Epoch 58  [Train |████████████████████|    1/1    batches, 22.21 cost, 0.05s]\n",
      "Epoch 59  [Train |████████████████████|    1/1    batches, 22.17 cost, 0.05s]\n",
      "Epoch 60  [Train |████████████████████|    1/1    batches, 22.13 cost, 0.03s]\n",
      "Epoch 61  [Train |████████████████████|    1/1    batches, 22.09 cost, 0.03s]\n",
      "Epoch 62  [Train |████████████████████|    1/1    batches, 22.06 cost, 0.03s]\n",
      "Epoch 63  [Train |████████████████████|    1/1    batches, 22.02 cost, 0.03s]\n",
      "Epoch 64  [Train |████████████████████|    1/1    batches, 21.98 cost, 0.03s]\n",
      "Epoch 65  [Train |████████████████████|    1/1    batches, 21.94 cost, 0.03s]\n",
      "Epoch 66  [Train |████████████████████|    1/1    batches, 21.89 cost, 0.03s]\n",
      "Epoch 67  [Train |████████████████████|    1/1    batches, 21.85 cost, 0.03s]\n",
      "Epoch 68  [Train |████████████████████|    1/1    batches, 21.81 cost, 0.05s]\n",
      "Epoch 69  [Train |████████████████████|    1/1    batches, 21.77 cost, 0.05s]\n",
      "Epoch 70  [Train |████████████████████|    1/1    batches, 21.72 cost, 0.03s]\n",
      "Epoch 71  [Train |████████████████████|    1/1    batches, 21.68 cost, 0.04s]\n",
      "Epoch 72  [Train |████████████████████|    1/1    batches, 21.64 cost, 0.04s]\n",
      "Epoch 73  [Train |████████████████████|    1/1    batches, 21.59 cost, 0.05s]\n",
      "Epoch 74  [Train |████████████████████|    1/1    batches, 21.55 cost, 0.05s]\n",
      "Epoch 75  [Train |████████████████████|    1/1    batches, 21.51 cost, 0.06s]\n",
      "Epoch 76  [Train |████████████████████|    1/1    batches, 21.46 cost, 0.08s]\n",
      "Epoch 77  [Train |████████████████████|    1/1    batches, 21.42 cost, 0.07s]\n",
      "Epoch 78  [Train |████████████████████|    1/1    batches, 21.37 cost, 0.03s]\n",
      "Epoch 79  [Train |████████████████████|    1/1    batches, 21.33 cost, 0.06s]\n",
      "Epoch 80  [Train |████████████████████|    1/1    batches, 21.29 cost, 0.03s]\n",
      "Epoch 81  [Train |████████████████████|    1/1    batches, 21.24 cost, 0.04s]\n",
      "Epoch 82  [Train |████████████████████|    1/1    batches, 21.20 cost, 0.04s]\n",
      "Epoch 83  [Train |████████████████████|    1/1    batches, 21.15 cost, 0.06s]\n",
      "Epoch 84  [Train |████████████████████|    1/1    batches, 21.11 cost, 0.03s]\n",
      "Epoch 85  [Train |████████████████████|    1/1    batches, 21.06 cost, 0.03s]\n",
      "Epoch 86  [Train |████████████████████|    1/1    batches, 21.02 cost, 0.04s]\n",
      "Epoch 87  [Train |████████████████████|    1/1    batches, 20.97 cost, 0.03s]\n",
      "Epoch 88  [Train |████████████████████|    1/1    batches, 20.93 cost, 0.03s]\n",
      "Epoch 89  [Train |████████████████████|    1/1    batches, 20.88 cost, 0.04s]\n",
      "Epoch 90  [Train |████████████████████|    1/1    batches, 20.84 cost, 0.03s]\n",
      "Epoch 91  [Train |████████████████████|    1/1    batches, 20.79 cost, 0.03s]\n",
      "Epoch 92  [Train |████████████████████|    1/1    batches, 20.75 cost, 0.04s]\n",
      "Epoch 93  [Train |████████████████████|    1/1    batches, 20.70 cost, 0.03s]\n",
      "Epoch 94  [Train |████████████████████|    1/1    batches, 20.65 cost, 0.03s]\n",
      "Epoch 95  [Train |████████████████████|    1/1    batches, 20.61 cost, 0.03s]\n",
      "Epoch 96  [Train |████████████████████|    1/1    batches, 20.56 cost, 0.03s]\n",
      "Epoch 97  [Train |████████████████████|    1/1    batches, 20.51 cost, 0.03s]\n",
      "Epoch 98  [Train |████████████████████|    1/1    batches, 20.47 cost, 0.04s]\n",
      "Epoch 99  [Train |████████████████████|    1/1    batches, 20.42 cost, 0.04s]\n",
      "Epoch 100 [Train |████████████████████|    1/1    batches, 20.37 cost, 0.03s]\n",
      "Epoch 101 [Train |████████████████████|    1/1    batches, 20.32 cost, 0.03s]\n",
      "Epoch 102 [Train |████████████████████|    1/1    batches, 20.27 cost, 0.05s]\n",
      "Epoch 103 [Train |████████████████████|    1/1    batches, 20.22 cost, 0.03s]\n",
      "Epoch 104 [Train |████████████████████|    1/1    batches, 20.17 cost, 0.02s]\n",
      "Epoch 105 [Train |████████████████████|    1/1    batches, 20.12 cost, 0.03s]\n",
      "Epoch 106 [Train |████████████████████|    1/1    batches, 20.07 cost, 0.04s]\n",
      "Epoch 107 [Train |████████████████████|    1/1    batches, 20.02 cost, 0.04s]\n",
      "Epoch 108 [Train |████████████████████|    1/1    batches, 19.97 cost, 0.04s]\n",
      "Epoch 109 [Train |████████████████████|    1/1    batches, 19.92 cost, 0.03s]\n",
      "Epoch 110 [Train |████████████████████|    1/1    batches, 19.87 cost, 0.04s]\n",
      "Epoch 111 [Train |████████████████████|    1/1    batches, 19.81 cost, 0.03s]\n",
      "Epoch 112 [Train |████████████████████|    1/1    batches, 19.76 cost, 0.03s]\n",
      "Epoch 113 [Train |████████████████████|    1/1    batches, 19.71 cost, 0.05s]\n",
      "Epoch 114 [Train |████████████████████|    1/1    batches, 19.66 cost, 0.03s]\n",
      "Epoch 115 [Train |████████████████████|    1/1    batches, 19.60 cost, 0.03s]\n",
      "Epoch 116 [Train |████████████████████|    1/1    batches, 19.55 cost, 0.03s]\n",
      "Epoch 117 [Train |████████████████████|    1/1    batches, 19.50 cost, 0.03s]\n",
      "Epoch 118 [Train |████████████████████|    1/1    batches, 19.44 cost, 0.05s]\n",
      "Epoch 119 [Train |████████████████████|    1/1    batches, 19.39 cost, 0.03s]\n",
      "Epoch 120 [Train |████████████████████|    1/1    batches, 19.33 cost, 0.06s]\n",
      "Epoch 121 [Train |████████████████████|    1/1    batches, 19.28 cost, 0.03s]\n",
      "Epoch 122 [Train |████████████████████|    1/1    batches, 19.23 cost, 0.03s]\n",
      "Epoch 123 [Train |████████████████████|    1/1    batches, 19.17 cost, 0.05s]\n",
      "Epoch 124 [Train |████████████████████|    1/1    batches, 19.12 cost, 0.04s]\n",
      "Epoch 125 [Train |████████████████████|    1/1    batches, 19.06 cost, 0.03s]\n",
      "Epoch 126 [Train |████████████████████|    1/1    batches, 19.01 cost, 0.03s]\n",
      "Epoch 127 [Train |████████████████████|    1/1    batches, 18.95 cost, 0.03s]\n",
      "Epoch 128 [Train |████████████████████|    1/1    batches, 18.89 cost, 0.04s]\n",
      "Epoch 129 [Train |████████████████████|    1/1    batches, 18.84 cost, 0.04s]\n",
      "Epoch 130 [Train |████████████████████|    1/1    batches, 18.78 cost, 0.03s]\n",
      "Epoch 131 [Train |████████████████████|    1/1    batches, 18.73 cost, 0.03s]\n",
      "Epoch 132 [Train |████████████████████|    1/1    batches, 18.67 cost, 0.03s]\n",
      "Epoch 133 [Train |████████████████████|    1/1    batches, 18.62 cost, 0.04s]\n",
      "Epoch 134 [Train |████████████████████|    1/1    batches, 18.56 cost, 0.02s]\n",
      "Epoch 135 [Train |████████████████████|    1/1    batches, 18.50 cost, 0.03s]\n",
      "Epoch 136 [Train |████████████████████|    1/1    batches, 18.45 cost, 0.03s]\n",
      "Epoch 137 [Train |████████████████████|    1/1    batches, 18.39 cost, 0.03s]\n",
      "Epoch 138 [Train |████████████████████|    1/1    batches, 18.33 cost, 0.03s]\n",
      "Epoch 139 [Train |████████████████████|    1/1    batches, 18.28 cost, 0.03s]\n",
      "Epoch 140 [Train |████████████████████|    1/1    batches, 18.22 cost, 0.03s]\n",
      "Epoch 141 [Train |████████████████████|    1/1    batches, 18.17 cost, 0.03s]\n",
      "Epoch 142 [Train |████████████████████|    1/1    batches, 18.11 cost, 0.04s]\n",
      "Epoch 143 [Train |████████████████████|    1/1    batches, 18.05 cost, 0.04s]\n",
      "Epoch 144 [Train |████████████████████|    1/1    batches, 18.00 cost, 0.04s]\n",
      "Epoch 145 [Train |████████████████████|    1/1    batches, 17.94 cost, 0.04s]\n",
      "Epoch 146 [Train |████████████████████|    1/1    batches, 17.88 cost, 0.03s]\n",
      "Epoch 147 [Train |████████████████████|    1/1    batches, 17.83 cost, 0.03s]\n",
      "Epoch 148 [Train |████████████████████|    1/1    batches, 17.77 cost, 0.04s]\n",
      "Epoch 149 [Train |████████████████████|    1/1    batches, 17.72 cost, 0.04s]\n",
      "Epoch 150 [Train |████████████████████|    1/1    batches, 17.66 cost, 0.03s]\n",
      "Epoch 151 [Train |████████████████████|    1/1    batches, 17.60 cost, 0.04s]\n",
      "Epoch 152 [Train |████████████████████|    1/1    batches, 17.55 cost, 0.04s]\n",
      "Epoch 153 [Train |████████████████████|    1/1    batches, 17.49 cost, 0.03s]\n",
      "Epoch 154 [Train |████████████████████|    1/1    batches, 17.44 cost, 0.05s]\n",
      "Epoch 155 [Train |████████████████████|    1/1    batches, 17.38 cost, 0.03s]\n",
      "Epoch 156 [Train |████████████████████|    1/1    batches, 17.33 cost, 0.02s]\n",
      "Epoch 157 [Train |████████████████████|    1/1    batches, 17.27 cost, 0.03s]\n",
      "Epoch 158 [Train |████████████████████|    1/1    batches, 17.22 cost, 0.03s]\n",
      "Epoch 159 [Train |████████████████████|    1/1    batches, 17.16 cost, 0.03s]\n",
      "Epoch 160 [Train |████████████████████|    1/1    batches, 17.11 cost, 0.03s]\n",
      "Epoch 161 [Train |████████████████████|    1/1    batches, 17.05 cost, 0.03s]\n",
      "Epoch 162 [Train |████████████████████|    1/1    batches, 17.00 cost, 0.03s]\n",
      "Epoch 163 [Train |████████████████████|    1/1    batches, 16.95 cost, 0.03s]\n",
      "Epoch 164 [Train |████████████████████|    1/1    batches, 16.89 cost, 0.04s]\n",
      "Epoch 165 [Train |████████████████████|    1/1    batches, 16.84 cost, 0.04s]\n",
      "Epoch 166 [Train |████████████████████|    1/1    batches, 16.78 cost, 0.04s]\n",
      "Epoch 167 [Train |████████████████████|    1/1    batches, 16.73 cost, 0.03s]\n",
      "Epoch 168 [Train |████████████████████|    1/1    batches, 16.68 cost, 0.03s]\n",
      "Epoch 169 [Train |████████████████████|    1/1    batches, 16.62 cost, 0.03s]\n",
      "Epoch 170 [Train |████████████████████|    1/1    batches, 16.57 cost, 0.03s]\n",
      "Epoch 171 [Train |████████████████████|    1/1    batches, 16.52 cost, 0.02s]\n",
      "Epoch 172 [Train |████████████████████|    1/1    batches, 16.47 cost, 0.03s]\n",
      "Epoch 173 [Train |████████████████████|    1/1    batches, 16.42 cost, 0.03s]\n",
      "Epoch 174 [Train |████████████████████|    1/1    batches, 16.36 cost, 0.03s]\n",
      "Epoch 175 [Train |████████████████████|    1/1    batches, 16.31 cost, 0.02s]\n",
      "Epoch 176 [Train |████████████████████|    1/1    batches, 16.26 cost, 0.03s]\n",
      "Epoch 177 [Train |████████████████████|    1/1    batches, 16.21 cost, 0.03s]\n",
      "Epoch 178 [Train |████████████████████|    1/1    batches, 16.16 cost, 0.03s]\n",
      "Epoch 179 [Train |████████████████████|    1/1    batches, 16.11 cost, 0.03s]\n",
      "Epoch 180 [Train |████████████████████|    1/1    batches, 16.06 cost, 0.03s]\n",
      "Epoch 181 [Train |████████████████████|    1/1    batches, 16.01 cost, 0.03s]\n",
      "Epoch 182 [Train |████████████████████|    1/1    batches, 15.96 cost, 0.03s]\n",
      "Epoch 183 [Train |████████████████████|    1/1    batches, 15.91 cost, 0.03s]\n",
      "Epoch 184 [Train |████████████████████|    1/1    batches, 15.86 cost, 0.03s]\n",
      "Epoch 185 [Train |████████████████████|    1/1    batches, 15.81 cost, 0.03s]\n",
      "Epoch 186 [Train |████████████████████|    1/1    batches, 15.76 cost, 0.02s]\n",
      "Epoch 187 [Train |████████████████████|    1/1    batches, 15.71 cost, 0.03s]\n",
      "Epoch 188 [Train |████████████████████|    1/1    batches, 15.66 cost, 0.03s]\n",
      "Epoch 189 [Train |████████████████████|    1/1    batches, 15.62 cost, 0.04s]\n",
      "Epoch 190 [Train |████████████████████|    1/1    batches, 15.57 cost, 0.03s]\n",
      "Epoch 191 [Train |████████████████████|    1/1    batches, 15.52 cost, 0.03s]\n",
      "Epoch 192 [Train |████████████████████|    1/1    batches, 15.47 cost, 0.03s]\n",
      "Epoch 193 [Train |████████████████████|    1/1    batches, 15.43 cost, 0.03s]\n",
      "Epoch 194 [Train |████████████████████|    1/1    batches, 15.38 cost, 0.03s]\n",
      "Epoch 195 [Train |████████████████████|    1/1    batches, 15.33 cost, 0.05s]\n",
      "Epoch 196 [Train |████████████████████|    1/1    batches, 15.29 cost, 0.02s]\n",
      "Epoch 197 [Train |████████████████████|    1/1    batches, 15.24 cost, 0.03s]\n",
      "Epoch 198 [Train |████████████████████|    1/1    batches, 15.19 cost, 0.03s]\n",
      "Epoch 199 [Train |████████████████████|    1/1    batches, 15.15 cost, 0.02s]\n"
     ]
    }
   ],
   "source": [
    "# Strided conv autoencoder\n",
    "bn = False\n",
    "layers = [Affine(nout=28*14, init=init_uni, activation=Rectlin(), batch_norm=bn),\n",
    "          Affine(nout=28*7, init=init_uni, activation=Rectlin(), batch_norm=bn),\n",
    "          Affine(nout=28*14, init=init_uni, activation=Rectlin(), batch_norm=bn),\n",
    "         Affine(nout=28*28, init=init_uni, batch_norm=bn)]\n",
    "\n",
    "# Define the cost\n",
    "cost = GeneralizedCost(costfunc=SumSquared())\n",
    "\n",
    "model = Model(layers=layers)\n",
    "\n",
    "# configure callbacks\n",
    "callbacks = Callbacks(model, train)\n",
    "\n",
    "# Fit the model\n",
    "model.fit(train, optimizer=opt_gdm, num_epochs=200,\n",
    "          cost=cost, callbacks=callbacks)\n"
   ]
  },
  {
   "cell_type": "code",
   "execution_count": 27,
   "metadata": {
    "collapsed": false
   },
   "outputs": [],
   "source": [
    "# Plot the reconstructed digits\n",
    "try:\n",
    "    from matplotlib import pyplot, cm\n",
    "    fi = 0\n",
    "    nrows = 10\n",
    "    ncols = 10\n",
    "    test = np.zeros((28 * nrows, 28 * ncols))\n",
    "    idxs = [(row, col) for row in range(nrows) for col in range(ncols)]\n",
    "    for row, col in idxs:\n",
    "        im = model.layers.layers[-1].outputs.get()[:, fi].reshape((28, 28))\n",
    "        test[28 * row:28 * (row + 1):, 28 * col:28 * (col + 1)] = im\n",
    "        fi = fi + 1\n",
    "    pyplot.matshow(test, cmap=cm.gray)\n",
    "    pyplot.savefig('Reconstructed.png')\n",
    "except ImportError:\n",
    "    neon_logger.display(\n",
    "        'matplotlib needs to be manually installed to generate plots')"
   ]
  },
  {
   "cell_type": "code",
   "execution_count": 72,
   "metadata": {
    "collapsed": false
   },
   "outputs": [
    {
     "name": "stdout",
     "output_type": "stream",
     "text": [
      "(100, 392)\n"
     ]
    }
   ],
   "source": [
    "im = model.layers.layers[-2].outputs.get()[:, :].T\n",
    "print im.shape"
   ]
  },
  {
   "cell_type": "code",
   "execution_count": 73,
   "metadata": {
    "collapsed": true
   },
   "outputs": [],
   "source": [
    "from time import time\n",
    "import numpy as np\n",
    "import matplotlib.pyplot as plt\n",
    "from sklearn import metrics\n",
    "from sklearn.cluster import KMeans\n",
    "from sklearn.metrics import confusion_matrix,accuracy_score, f1_score, precision_score, recall_score"
   ]
  },
  {
   "cell_type": "code",
   "execution_count": 74,
   "metadata": {
    "collapsed": true
   },
   "outputs": [],
   "source": [
    "labels = y_train[0:100]\n",
    "sample_size = 100"
   ]
  },
  {
   "cell_type": "code",
   "execution_count": 101,
   "metadata": {
    "collapsed": false
   },
   "outputs": [],
   "source": [
    "def bench_k_means(estimator, name, data):\n",
    "    t0 = time()\n",
    "    estimator.fit(data)\n",
    "    print('name   time   estimator   homogeneity   completeness    v_measure   adjusted_rand   adjusted_mutual_info   silhouette\\n% 9s   %.2fs    %i   %.3f   %.3f   %.3f   %.3f   %.3f    %.3f'\n",
    "          % (name, (time() - t0), estimator.inertia_,\n",
    "             metrics.homogeneity_score(labels, estimator.labels_),\n",
    "             metrics.completeness_score(labels, estimator.labels_),\n",
    "             metrics.v_measure_score(labels, estimator.labels_),\n",
    "             metrics.adjusted_rand_score(labels, estimator.labels_),\n",
    "             metrics.adjusted_mutual_info_score(labels,  estimator.labels_),\n",
    "             metrics.silhouette_score(data, estimator.labels_,\n",
    "                                      metric='euclidean',\n",
    "                                      sample_size=sample_size)))"
   ]
  },
  {
   "cell_type": "code",
   "execution_count": 102,
   "metadata": {
    "collapsed": false
   },
   "outputs": [
    {
     "name": "stdout",
     "output_type": "stream",
     "text": [
      "name   time   estimator   homogeneity   completeness    v_measure   adjusted_rand   adjusted_mutual_info   silhouette\n",
      "k-means++   0.06s    178   0.633   0.643   0.638   0.408   0.536    0.221\n",
      "name   time   estimator   homogeneity   completeness    v_measure   adjusted_rand   adjusted_mutual_info   silhouette\n",
      "k-means++   0.05s    3004   0.638   0.650   0.644   0.394   0.542    0.105\n"
     ]
    }
   ],
   "source": [
    "bench_k_means(KMeans(init='k-means++', n_clusters=10, n_init=10),\n",
    "              name=\"k-means++\", data=im)\n",
    "bench_k_means(KMeans(init='k-means++', n_clusters=10, n_init=10),\n",
    "              name=\"k-means++\", data=X_train)"
   ]
  },
  {
   "cell_type": "code",
   "execution_count": 103,
   "metadata": {
    "collapsed": false
   },
   "outputs": [
    {
     "data": {
      "text/plain": [
       "KMeans(copy_x=True, init='k-means++', max_iter=300, n_clusters=10, n_init=10,\n",
       "    n_jobs=1, precompute_distances='auto', random_state=None, tol=0.0001,\n",
       "    verbose=0)"
      ]
     },
     "execution_count": 103,
     "metadata": {},
     "output_type": "execute_result"
    }
   ],
   "source": [
    "kmeans = KMeans(init='k-means++', n_clusters=10, n_init=10)\n",
    "kmeans.fit(im)"
   ]
  },
  {
   "cell_type": "code",
   "execution_count": 104,
   "metadata": {
    "collapsed": false
   },
   "outputs": [
    {
     "name": "stdout",
     "output_type": "stream",
     "text": [
      "[6 7 0 2 3 3 8 5 8 3 5 8 5 1 8 3 0 6 0 3 0 7 3 2 8 5 8 5 9 2 0 6 0 3 4 8 1\n",
      " 4 0 1 8 6 8 3 0 3 6 6 0 5 0 7 9 2 0 6 7 3 9 2 0 2 1 7 0 2 1 2 0 4 8 3 8 1\n",
      " 5 7 0 2 2 3 0 4 4 1 0 6 0 3 7 3 1 3 0 1 6 4 3 6 5 2]\n",
      "[5 0 4 1 9 2 1 3 1 4 3 5 3 6 1 7 2 8 6 9 4 0 9 1 1 2 4 3 2 7 3 8 6 9 0 5 6\n",
      " 0 7 6 1 8 7 9 3 9 8 5 9 3 3 0 7 4 9 8 0 9 4 1 4 4 6 0 4 5 6 1 0 0 1 7 1 6\n",
      " 3 0 2 1 1 7 9 0 2 6 7 8 3 9 0 4 6 7 4 6 8 0 7 8 3 1]\n"
     ]
    }
   ],
   "source": [
    "Z = kmeans.predict(im)\n",
    "print Z\n",
    "print labels"
   ]
  },
  {
   "cell_type": "code",
   "execution_count": 105,
   "metadata": {
    "collapsed": true
   },
   "outputs": [],
   "source": [
    "def plot_confusion_matrix(cm, classlist1, title='Confusion matrix', cmap=plt.cm.Blues):\n",
    "    plt.imshow(cm, interpolation='nearest', cmap=cmap)\n",
    "    plt.title(title)\n",
    "    plt.colorbar()\n",
    "    tick_marks = np.arange(len(classlist1))\n",
    "    plt.xticks(tick_marks, classlist1, rotation=45)\n",
    "    plt.yticks(tick_marks, classlist1)\n",
    "    plt.tight_layout()\n",
    "    plt.ylabel('True label')\n",
    "    plt.xlabel('Predicted label')"
   ]
  },
  {
   "cell_type": "code",
   "execution_count": 80,
   "metadata": {
    "collapsed": false
   },
   "outputs": [],
   "source": [
    "cm = confusion_matrix(labels, Z)"
   ]
  },
  {
   "cell_type": "code",
   "execution_count": 106,
   "metadata": {
    "collapsed": false
   },
   "outputs": [],
   "source": [
    "cm_normalized = cm.astype('float') / cm.sum(axis=1)[:, np.newaxis]\n",
    "classlist1=[0,1,2,3,4,5,6,7,8,9]\n",
    "plt.figure()\n",
    "plot_confusion_matrix(cm_normalized,classlist1, title='Normalized confusion matrix')\n",
    "plt.savefig('cm_mnist.png', format='png', dpi=600)\n",
    "plt.show()"
   ]
  },
  {
   "cell_type": "code",
   "execution_count": 82,
   "metadata": {
    "collapsed": false
   },
   "outputs": [
    {
     "ename": "ValueError",
     "evalue": "Incorrect number of features. Got 2 features, expected 392",
     "output_type": "error",
     "traceback": [
      "\u001b[1;31m---------------------------------------------------------------------------\u001b[0m",
      "\u001b[1;31mValueError\u001b[0m                                Traceback (most recent call last)",
      "\u001b[1;32m<ipython-input-82-648c8c08b15f>\u001b[0m in \u001b[0;36m<module>\u001b[1;34m()\u001b[0m\n\u001b[0;32m      8\u001b[0m \u001b[1;33m\u001b[0m\u001b[0m\n\u001b[0;32m      9\u001b[0m \u001b[1;31m# Obtain labels for each point in mesh. Use last trained model.\u001b[0m\u001b[1;33m\u001b[0m\u001b[1;33m\u001b[0m\u001b[0m\n\u001b[1;32m---> 10\u001b[1;33m \u001b[0mZ\u001b[0m \u001b[1;33m=\u001b[0m \u001b[0mkmeans\u001b[0m\u001b[1;33m.\u001b[0m\u001b[0mpredict\u001b[0m\u001b[1;33m(\u001b[0m\u001b[0mnp\u001b[0m\u001b[1;33m.\u001b[0m\u001b[0mc_\u001b[0m\u001b[1;33m[\u001b[0m\u001b[0mxx\u001b[0m\u001b[1;33m.\u001b[0m\u001b[0mravel\u001b[0m\u001b[1;33m(\u001b[0m\u001b[1;33m)\u001b[0m\u001b[1;33m,\u001b[0m \u001b[0myy\u001b[0m\u001b[1;33m.\u001b[0m\u001b[0mravel\u001b[0m\u001b[1;33m(\u001b[0m\u001b[1;33m)\u001b[0m\u001b[1;33m]\u001b[0m\u001b[1;33m)\u001b[0m\u001b[1;33m\u001b[0m\u001b[0m\n\u001b[0m\u001b[0;32m     11\u001b[0m \u001b[1;33m\u001b[0m\u001b[0m\n\u001b[0;32m     12\u001b[0m \u001b[1;31m# Put the result into a color plot\u001b[0m\u001b[1;33m\u001b[0m\u001b[1;33m\u001b[0m\u001b[0m\n",
      "\u001b[1;32m/usr/local/lib/python2.7/dist-packages/sklearn/cluster/k_means_.pyc\u001b[0m in \u001b[0;36mpredict\u001b[1;34m(self, X)\u001b[0m\n\u001b[0;32m    887\u001b[0m         \u001b[0mcheck_is_fitted\u001b[0m\u001b[1;33m(\u001b[0m\u001b[0mself\u001b[0m\u001b[1;33m,\u001b[0m \u001b[1;34m'cluster_centers_'\u001b[0m\u001b[1;33m)\u001b[0m\u001b[1;33m\u001b[0m\u001b[0m\n\u001b[0;32m    888\u001b[0m \u001b[1;33m\u001b[0m\u001b[0m\n\u001b[1;32m--> 889\u001b[1;33m         \u001b[0mX\u001b[0m \u001b[1;33m=\u001b[0m \u001b[0mself\u001b[0m\u001b[1;33m.\u001b[0m\u001b[0m_check_test_data\u001b[0m\u001b[1;33m(\u001b[0m\u001b[0mX\u001b[0m\u001b[1;33m)\u001b[0m\u001b[1;33m\u001b[0m\u001b[0m\n\u001b[0m\u001b[0;32m    890\u001b[0m         \u001b[0mx_squared_norms\u001b[0m \u001b[1;33m=\u001b[0m \u001b[0mrow_norms\u001b[0m\u001b[1;33m(\u001b[0m\u001b[0mX\u001b[0m\u001b[1;33m,\u001b[0m \u001b[0msquared\u001b[0m\u001b[1;33m=\u001b[0m\u001b[0mTrue\u001b[0m\u001b[1;33m)\u001b[0m\u001b[1;33m\u001b[0m\u001b[0m\n\u001b[0;32m    891\u001b[0m         \u001b[1;32mreturn\u001b[0m \u001b[0m_labels_inertia\u001b[0m\u001b[1;33m(\u001b[0m\u001b[0mX\u001b[0m\u001b[1;33m,\u001b[0m \u001b[0mx_squared_norms\u001b[0m\u001b[1;33m,\u001b[0m \u001b[0mself\u001b[0m\u001b[1;33m.\u001b[0m\u001b[0mcluster_centers_\u001b[0m\u001b[1;33m)\u001b[0m\u001b[1;33m[\u001b[0m\u001b[1;36m0\u001b[0m\u001b[1;33m]\u001b[0m\u001b[1;33m\u001b[0m\u001b[0m\n",
      "\u001b[1;32m/usr/local/lib/python2.7/dist-packages/sklearn/cluster/k_means_.pyc\u001b[0m in \u001b[0;36m_check_test_data\u001b[1;34m(self, X)\u001b[0m\n\u001b[0;32m    798\u001b[0m             raise ValueError(\"Incorrect number of features. \"\n\u001b[0;32m    799\u001b[0m                              \"Got %d features, expected %d\" % (\n\u001b[1;32m--> 800\u001b[1;33m                                  n_features, expected_n_features))\n\u001b[0m\u001b[0;32m    801\u001b[0m \u001b[1;33m\u001b[0m\u001b[0m\n\u001b[0;32m    802\u001b[0m         \u001b[1;32mreturn\u001b[0m \u001b[0mX\u001b[0m\u001b[1;33m\u001b[0m\u001b[0m\n",
      "\u001b[1;31mValueError\u001b[0m: Incorrect number of features. Got 2 features, expected 392"
     ]
    }
   ],
   "source": [
    "# Step size of the mesh. Decrease to increase the quality of the VQ.\n",
    "h = .02     # point in the mesh [x_min, m_max]x[y_min, y_max].\n",
    "\n",
    "# Plot the decision boundary. For that, we will assign a color to each\n",
    "x_min, x_max = reduced_data[:, 0].min() - 1, reduced_data[:, 0].max() + 1\n",
    "y_min, y_max = reduced_data[:, 1].min() - 1, reduced_data[:, 1].max() + 1\n",
    "xx, yy = np.meshgrid(np.arange(x_min, x_max, h), np.arange(y_min, y_max, h))\n",
    "\n",
    "# Obtain labels for each point in mesh. Use last trained model.\n",
    "Z = kmeans.predict(np.c_[xx.ravel(), yy.ravel()])\n",
    "\n",
    "# Put the result into a color plot\n",
    "Z = Z.reshape(xx.shape)\n",
    "plt.figure(1)\n",
    "plt.clf()\n",
    "plt.imshow(Z, interpolation='nearest',\n",
    "           extent=(xx.min(), xx.max(), yy.min(), yy.max()),\n",
    "           cmap=plt.cm.Paired,\n",
    "           aspect='auto', origin='lower')\n",
    "\n",
    "plt.plot(reduced_data[:, 0], reduced_data[:, 1], 'k.', markersize=2)\n",
    "# Plot the centroids as a white X\n",
    "centroids = kmeans.cluster_centers_\n",
    "plt.scatter(centroids[:, 0], centroids[:, 1],\n",
    "            marker='x', s=169, linewidths=3,\n",
    "            color='w', zorder=10)\n",
    "plt.title('K-means clustering on the digits dataset (PCA-reduced data)\\n'\n",
    "          'Centroids are marked with white cross')\n",
    "plt.xlim(x_min, x_max)\n",
    "plt.ylim(y_min, y_max)\n",
    "plt.xticks(())\n",
    "plt.yticks(())\n",
    "plt.show()\n"
   ]
  },
  {
   "cell_type": "code",
   "execution_count": null,
   "metadata": {
    "collapsed": true
   },
   "outputs": [],
   "source": []
  }
 ],
 "metadata": {
  "kernelspec": {
   "display_name": "Python [Root]",
   "language": "python",
   "name": "Python [Root]"
  },
  "language_info": {
   "codemirror_mode": {
    "name": "ipython",
    "version": 2
   },
   "file_extension": ".py",
   "mimetype": "text/x-python",
   "name": "python",
   "nbconvert_exporter": "python",
   "pygments_lexer": "ipython2",
   "version": "2.7.12"
  }
 },
 "nbformat": 4,
 "nbformat_minor": 0
}
